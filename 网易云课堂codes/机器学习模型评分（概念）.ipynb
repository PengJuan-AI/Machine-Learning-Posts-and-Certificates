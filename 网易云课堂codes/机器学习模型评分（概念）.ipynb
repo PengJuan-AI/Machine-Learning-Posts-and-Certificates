{
 "cells": [
  {
   "cell_type": "markdown",
   "metadata": {},
   "source": [
    " 1. 准确率：Accuracy\n",
    " \n",
    " 准确率 = 所有预测正确的样本/总样本\n",
    " \n",
    " 2. 精确率：Precision\n",
    " \n",
    " **针对预测结果而言，预测为True的样本中有多少是真正的True**\n",
    " \n",
    " 精确率（查准率） = 将正类预测为正类/预测的正类 -> TP/(FP+TP)\n",
    " \n",
    " 即真正的正样本：True Positive； \n",
    " 预测为正有两种可能：True positive(TP) and False Positive(FP)\n",
    " \n",
    " 3. 召回率\n",
    " \n",
    " **针对原本的样本而言，样本中的True有多少被预测为True了**\n",
    " \n",
    " 召回率（查全率） = 将正类预测为正类/原本的正类 -> TP/(TP+FN)\n",
    " \n",
    " FN：原来的正类预测成负类\n",
    " \n",
    " 4. F1值\n",
    " \n",
    " 既体现精确率又能体现召回率的一个评价指标"
   ]
  }
 ],
 "metadata": {
  "kernelspec": {
   "display_name": "Python 3",
   "language": "python",
   "name": "python3"
  },
  "language_info": {
   "codemirror_mode": {
    "name": "ipython",
    "version": 3
   },
   "file_extension": ".py",
   "mimetype": "text/x-python",
   "name": "python",
   "nbconvert_exporter": "python",
   "pygments_lexer": "ipython3",
   "version": "3.7.8"
  }
 },
 "nbformat": 4,
 "nbformat_minor": 4
}

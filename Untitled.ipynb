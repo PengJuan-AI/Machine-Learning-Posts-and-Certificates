{
 "cells": [
  {
   "cell_type": "code",
   "execution_count": 1,
   "metadata": {},
   "outputs": [],
   "source": [
    "l = [7,1,9,13,10]"
   ]
  },
  {
   "cell_type": "code",
   "execution_count": 4,
   "metadata": {},
   "outputs": [],
   "source": [
    "import numpy as np"
   ]
  },
  {
   "cell_type": "code",
   "execution_count": 6,
   "metadata": {},
   "outputs": [
    {
     "data": {
      "text/plain": [
       "8.0"
      ]
     },
     "execution_count": 6,
     "metadata": {},
     "output_type": "execute_result"
    }
   ],
   "source": [
    "np.mean(l)"
   ]
  },
  {
   "cell_type": "code",
   "execution_count": 7,
   "metadata": {},
   "outputs": [
    {
     "data": {
      "text/plain": [
       "9.0"
      ]
     },
     "execution_count": 7,
     "metadata": {},
     "output_type": "execute_result"
    }
   ],
   "source": [
    "np.median(l)"
   ]
  },
  {
   "cell_type": "code",
   "execution_count": 38,
   "metadata": {},
   "outputs": [
    {
     "name": "stdout",
     "output_type": "stream",
     "text": [
      "{3: [0, 1, 3], 4: [0, 2, 1, 3], 5: [1, 2, 3]}\n",
      "4\n",
      "[0, 2, 1, 3]\n",
      "[3, 4]\n"
     ]
    },
    {
     "data": {
      "text/plain": [
       "7"
      ]
     },
     "execution_count": 38,
     "metadata": {},
     "output_type": "execute_result"
    }
   ],
   "source": [
    "def getMax(sum_dict):\n",
    "    MAX = 0\n",
    "    for key, value in sum_dict.items():\n",
    "        if(len(value)>MAX and len(value)%2==0):\n",
    "            MAX = len(value)\n",
    "            k = key\n",
    "    return k\n",
    "\n",
    "def getTotalEfficiency(skill):\n",
    "    # Write your code here\n",
    "    skill_sum={}\n",
    "    n = len(skill)\n",
    "    efficiency = []\n",
    "    \n",
    "    for i in range(0,n):\n",
    "        for j in range(i+1, n):\n",
    "            SUM = skill[i]+skill[j]\n",
    "            skill_sum[SUM] = skill_sum.get(SUM, [])\n",
    "            l = skill_sum[SUM]\n",
    "            if(i not in l):\n",
    "                skill_sum[SUM].append(i)\n",
    "            if(j not in l):\n",
    "                skill_sum[SUM].append(j)\n",
    "                \n",
    "    print(skill_sum)\n",
    "    key = getMax(skill_sum)\n",
    "    print(key)\n",
    "    \n",
    "    # iterate skill_sum to calculate the efficiency sum\n",
    "    group = skill_sum[key]\n",
    "    \n",
    "    for i in range(0,len(group),2):\n",
    "        efficiency.append(skill[group[i]]*skill[group[i+1]])\n",
    "    \n",
    "    #print(efficiency)\n",
    "    return sum(efficiency)\n",
    "\n",
    "getTotalEfficiency([1,2,3,2])"
   ]
  },
  {
   "cell_type": "code",
   "execution_count": 24,
   "metadata": {},
   "outputs": [
    {
     "name": "stdout",
     "output_type": "stream",
     "text": [
      "{3: [0, 1, 0, 3], 4: [0, 2, 1, 3], 5: [1, 2, 2, 3]}\n"
     ]
    }
   ],
   "source": []
  },
  {
   "cell_type": "code",
   "execution_count": null,
   "metadata": {},
   "outputs": [],
   "source": []
  },
  {
   "cell_type": "code",
   "execution_count": null,
   "metadata": {},
   "outputs": [],
   "source": []
  }
 ],
 "metadata": {
  "kernelspec": {
   "display_name": "Python 3",
   "language": "python",
   "name": "python3"
  },
  "language_info": {
   "codemirror_mode": {
    "name": "ipython",
    "version": 3
   },
   "file_extension": ".py",
   "mimetype": "text/x-python",
   "name": "python",
   "nbconvert_exporter": "python",
   "pygments_lexer": "ipython3",
   "version": "3.7.8"
  }
 },
 "nbformat": 4,
 "nbformat_minor": 4
}
